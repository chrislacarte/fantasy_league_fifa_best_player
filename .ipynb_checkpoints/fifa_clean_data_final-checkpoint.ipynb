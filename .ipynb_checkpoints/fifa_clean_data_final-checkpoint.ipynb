{
 "cells": [
  {
   "cell_type": "code",
   "execution_count": 1,
   "id": "a16ca77e",
   "metadata": {},
   "outputs": [
    {
     "name": "stderr",
     "output_type": "stream",
     "text": [
      "/Users/chrislacarte/opt/anaconda3/lib/python3.9/site-packages/IPython/core/interactiveshell.py:3444: DtypeWarning: Columns (70) have mixed types.Specify dtype option on import or set low_memory=False.\n",
      "  exec(code_obj, self.user_global_ns, self.user_ns)\n"
     ]
    }
   ],
   "source": [
    "import matplotlib\n",
    "import matplotlib.pyplot as plt\n",
    "%matplotlib inline\n",
    "import seaborn as sns\n",
    "import pandas as pd\n",
    "import numpy as np\n",
    "from sklearn.preprocessing import LabelEncoder\n",
    "data = pd.read_csv('fifa21_train.csv')"
   ]
  },
  {
   "cell_type": "code",
   "execution_count": 58,
   "id": "8805d191",
   "metadata": {},
   "outputs": [
    {
     "data": {
      "text/plain": [
       "(11701, 101)"
      ]
     },
     "execution_count": 58,
     "metadata": {},
     "output_type": "execute_result"
    }
   ],
   "source": [
    "# data.shape"
   ]
  },
  {
   "cell_type": "markdown",
   "id": "767baf85",
   "metadata": {},
   "source": [
    "We convert column names to lwer case and eliminate spaces:"
   ]
  },
  {
   "cell_type": "code",
   "execution_count": 2,
   "id": "b6eb1ab2",
   "metadata": {},
   "outputs": [],
   "source": [
    "cols = []\n",
    "for i in range(len(data.columns)):\n",
    "    cols.append(data.columns[i].lower().replace(' ', '_'))\n",
    "data.columns = cols"
   ]
  },
  {
   "cell_type": "code",
   "execution_count": 11,
   "id": "5d6af905",
   "metadata": {},
   "outputs": [],
   "source": [
    "# cols"
   ]
  },
  {
   "cell_type": "code",
   "execution_count": 10,
   "id": "f9df5c22",
   "metadata": {},
   "outputs": [],
   "source": [
    "# data"
   ]
  },
  {
   "cell_type": "markdown",
   "id": "d6f8b848",
   "metadata": {},
   "source": [
    "Colummns that we consider are not relevant for the OVA calculation:\n",
    "id\n",
    "name\n",
    "nationality\n",
    "club\n",
    "bp (wee keep positon)\n",
    "team & contract"
   ]
  },
  {
   "cell_type": "code",
   "execution_count": 4,
   "id": "4bfc43c0",
   "metadata": {},
   "outputs": [],
   "source": [
    "data_num = data._get_numeric_data()\n",
    "# data_num"
   ]
  },
  {
   "cell_type": "markdown",
   "id": "efe814dc",
   "metadata": {},
   "source": [
    "Check for NaN values: "
   ]
  },
  {
   "cell_type": "code",
   "execution_count": 9,
   "id": "dbb50842",
   "metadata": {},
   "outputs": [],
   "source": [
    "# data_num.isna().sum()"
   ]
  },
  {
   "cell_type": "code",
   "execution_count": 8,
   "id": "fb8ebd57",
   "metadata": {},
   "outputs": [],
   "source": [
    "# nulls_df = pd.DataFrame(round(data_num.isna().sum()/len(data_num),4)*100)\n",
    "# nulls_df"
   ]
  },
  {
   "cell_type": "markdown",
   "id": "84f75d1e",
   "metadata": {},
   "source": [
    "As the 0.35 % NaN are not relevant, we can drop all ther NaN \n",
    "Also for composure which is 2.38%"
   ]
  },
  {
   "cell_type": "code",
   "execution_count": 65,
   "id": "fe46e69d",
   "metadata": {},
   "outputs": [
    {
     "data": {
      "text/plain": [
       "41"
      ]
     },
     "execution_count": 65,
     "metadata": {},
     "output_type": "execute_result"
    }
   ],
   "source": [
    "# data['volleys'].isna().sum()"
   ]
  },
  {
   "cell_type": "code",
   "execution_count": 5,
   "id": "9c89736f",
   "metadata": {},
   "outputs": [],
   "source": [
    "data_num = data_num[data_num['volleys'].isna()==False]"
   ]
  },
  {
   "cell_type": "code",
   "execution_count": 6,
   "id": "ec1dcdec",
   "metadata": {},
   "outputs": [
    {
     "data": {
      "text/plain": [
       "0"
      ]
     },
     "execution_count": 6,
     "metadata": {},
     "output_type": "execute_result"
    }
   ],
   "source": [
    "data_num['volleys'].isna().sum()"
   ]
  },
  {
   "cell_type": "code",
   "execution_count": 7,
   "id": "157569a3",
   "metadata": {},
   "outputs": [],
   "source": [
    "# nulls_df = pd.DataFrame(round(data_num.isna().sum()/len(data_num),4)*100)\n",
    "# nulls_df"
   ]
  },
  {
   "cell_type": "markdown",
   "id": "6587ffb2",
   "metadata": {},
   "source": [
    "The 'composure\" column still has 2.04% of NaN , lets find out why:"
   ]
  },
  {
   "cell_type": "code",
   "execution_count": 12,
   "id": "2b58f30d",
   "metadata": {},
   "outputs": [],
   "source": [
    "# data_num['composure'].isna().sum()"
   ]
  },
  {
   "cell_type": "markdown",
   "id": "0a528fcf",
   "metadata": {},
   "source": [
    "We decide to drop \"composure\" as it is not relevant for the total sample size"
   ]
  },
  {
   "cell_type": "code",
   "execution_count": 13,
   "id": "ca414a8e",
   "metadata": {},
   "outputs": [],
   "source": [
    "data_num = data_num[data_num['composure'].isna()==False]"
   ]
  },
  {
   "cell_type": "code",
   "execution_count": 14,
   "id": "8d86afbe",
   "metadata": {},
   "outputs": [],
   "source": [
    "# nulls_df = pd.DataFrame(round(data_num.isna().sum()/len(data_num),4)*100)\n",
    "# nulls_df"
   ]
  },
  {
   "cell_type": "markdown",
   "id": "b224ce1f",
   "metadata": {},
   "source": [
    "Explore Numerical data"
   ]
  },
  {
   "cell_type": "code",
   "execution_count": 15,
   "id": "dcc31af2",
   "metadata": {},
   "outputs": [],
   "source": [
    "# data_num"
   ]
  },
  {
   "cell_type": "code",
   "execution_count": 16,
   "id": "540f3462",
   "metadata": {},
   "outputs": [],
   "source": [
    "# data_num.info()"
   ]
  },
  {
   "cell_type": "code",
   "execution_count": 17,
   "id": "15bd2b0f",
   "metadata": {},
   "outputs": [],
   "source": [
    "# data_num.describe(include=\"all\").T"
   ]
  },
  {
   "cell_type": "code",
   "execution_count": 75,
   "id": "ba79e6be",
   "metadata": {},
   "outputs": [],
   "source": [
    "# for column in data_num.columns:\n",
    "#     sns.distplot(data_num[column])\n",
    "#     plt.show()"
   ]
  },
  {
   "cell_type": "code",
   "execution_count": 76,
   "id": "602ee031",
   "metadata": {},
   "outputs": [],
   "source": [
    "# correlations_matrix = data_num.corr()\n",
    "# correlations_matrix"
   ]
  },
  {
   "cell_type": "code",
   "execution_count": 77,
   "id": "f2cd5f74",
   "metadata": {
    "scrolled": true
   },
   "outputs": [],
   "source": [
    "# sns.heatmap(correlations_matrix, annot=True)\n",
    "# plt.show()"
   ]
  },
  {
   "cell_type": "markdown",
   "id": "958e4915",
   "metadata": {},
   "source": [
    "After revising the data and studying the documentation for the way \"ova\" is calculated, we decide the relevant columns are as follows:\n",
    "    "
   ]
  },
  {
   "cell_type": "code",
   "execution_count": 18,
   "id": "30db0203",
   "metadata": {},
   "outputs": [],
   "source": [
    "list_dummies = ['ls','st','rs','lw','lf','cf','rf','rw','lam','cam','ram','lm','lcm','cm','rcm','rm','lwb','ldm','cdm','rdm','rwb','lb','lcb','cb','rcb','rb','gk',]"
   ]
  },
  {
   "cell_type": "markdown",
   "id": "70f931fa",
   "metadata": {},
   "source": [
    "We standardize the way some of them represetn the data (e.g 59+1 = 59 ) and we eliminate the +1s as is just a booster that does not happen every observation:"
   ]
  },
  {
   "cell_type": "code",
   "execution_count": 19,
   "id": "ea04b6c1",
   "metadata": {},
   "outputs": [],
   "source": [
    "for col in data[list_dummies]:\n",
    "    data[col] = data[col].str.split(\"+\", n = 1, expand = True)[0]\n",
    "# data"
   ]
  },
  {
   "cell_type": "markdown",
   "id": "3abb2fbe",
   "metadata": {},
   "source": [
    "We do the same wiht ['w/f','sm','ir'] as they have a * and an int in the value"
   ]
  },
  {
   "cell_type": "code",
   "execution_count": 20,
   "id": "eef7ed47",
   "metadata": {},
   "outputs": [],
   "source": [
    "dummies_2 = ['w/f','sm','ir']\n",
    "\n",
    "for col in data[dummies_2]:\n",
    "    data[col] = data[col].str.split(\" \", n = 1, expand = True)[0]\n",
    "# data['w/f']\n",
    "\n"
   ]
  },
  {
   "cell_type": "markdown",
   "id": "8f605adc",
   "metadata": {},
   "source": [
    "we drop nationality , wage  as we consider they are nto relevant for the player avo"
   ]
  },
  {
   "cell_type": "code",
   "execution_count": 21,
   "id": "05bda8fc",
   "metadata": {},
   "outputs": [],
   "source": [
    "valid_columns = ['age','bp','height','weight','foot','growth','value','attacking','skill','movement','power','mentality','defending','goalkeeping','base_stats','w/f','sm','a/w','d/w','ir','pac','sho','pas','dri','defe','phy','hits','ls','st','rs','lw','lf','cf','rf','rw','lam','cam','ram','lm','lcm','cm','rcm','rm','lwb','ldm','cdm','rdm','rwb','lb','lcb','cb','rcb','rb','gk']"
   ]
  },
  {
   "cell_type": "markdown",
   "id": "955a4616",
   "metadata": {},
   "source": [
    "These are our selected columns:"
   ]
  },
  {
   "cell_type": "code",
   "execution_count": 22,
   "id": "3991288d",
   "metadata": {},
   "outputs": [],
   "source": [
    "# data[valid_columns]"
   ]
  },
  {
   "cell_type": "code",
   "execution_count": 23,
   "id": "0d0b2894",
   "metadata": {},
   "outputs": [],
   "source": [
    "# valid_columns"
   ]
  },
  {
   "cell_type": "code",
   "execution_count": 24,
   "id": "75762eba",
   "metadata": {},
   "outputs": [],
   "source": [
    "# data.dtypes"
   ]
  },
  {
   "cell_type": "markdown",
   "id": "19e77811",
   "metadata": {},
   "source": [
    "DATA TRANSFORMATION: "
   ]
  },
  {
   "cell_type": "code",
   "execution_count": 25,
   "id": "94395c71",
   "metadata": {},
   "outputs": [],
   "source": [
    "# data['foot']"
   ]
  },
  {
   "cell_type": "code",
   "execution_count": 26,
   "id": "b74863ce",
   "metadata": {},
   "outputs": [],
   "source": [
    "from sklearn.preprocessing import LabelEncoder\n",
    "label_encoded = LabelEncoder().fit(data['foot']).transform(data['foot']) # ordered wrt value counts\n",
    "label_encoded = pd.DataFrame(label_encoded)\n",
    "# display(label_encoded.head(20))\n",
    "# label_encoded['foot'].value_counts()\n",
    "data['foot']= label_encoded"
   ]
  },
  {
   "cell_type": "code",
   "execution_count": 27,
   "id": "15a72ee5",
   "metadata": {},
   "outputs": [],
   "source": [
    "# data[valid_columns]"
   ]
  },
  {
   "cell_type": "code",
   "execution_count": 88,
   "id": "1bdff665",
   "metadata": {},
   "outputs": [],
   "source": [
    "# for col in data['weight']:\n",
    "#     data['weight'] = data['weight'].str.split(\"lbs\", n = 1, expand = True)[0]\n",
    "  \n",
    "# data['weight']"
   ]
  },
  {
   "cell_type": "code",
   "execution_count": 28,
   "id": "e0ec91bf",
   "metadata": {},
   "outputs": [
    {
     "name": "stderr",
     "output_type": "stream",
     "text": [
      "C:\\Users\\moshi\\AppData\\Local\\Temp/ipykernel_16920/2326357964.py:2: FutureWarning: The default value of regex will change from True to False in a future version. In addition, single character regular expressions will *not* be treated as literal strings when regex=True.\n",
      "  data['value'] = data['value'].str.replace(\"€\", \"\").str.replace(\"K\",\"000\").str.replace(\"M\",\"000000\").str.replace(\"B\",\"000000000\").str.replace(\".\",\"\")\n"
     ]
    }
   ],
   "source": [
    "#strip value and wage from the € symbol and the K, M, B\n",
    "data['value'] = data['value'].str.replace(\"€\", \"\").str.replace(\"K\",\"000\").str.replace(\"M\",\"000000\").str.replace(\"B\",\"000000000\").str.replace(\".\",\"\")\n",
    "# data['value']"
   ]
  },
  {
   "cell_type": "code",
   "execution_count": 29,
   "id": "2e084ba5",
   "metadata": {},
   "outputs": [],
   "source": [
    "#Ecncode A/W and D/W with LabelEncoder \n",
    "#A/W\n",
    "df3 = data['a/w']\n",
    "label_encoded = LabelEncoder().fit(df3).transform(df3) # ordered wrt value counts\n",
    "label_encoded = pd.DataFrame(label_encoded)\n",
    "# display(label_encoded.head(20))\n",
    "# label_encoded['foot'].value_counts()\n",
    "data['a/w']= label_encoded\n",
    "\n",
    "#D/W\n",
    "df4 = data['d/w']\n",
    "label_encoded = LabelEncoder().fit(df4).transform(df4) # ordered wrt value counts\n",
    "label_encoded = pd.DataFrame(label_encoded)\n",
    "# display(label_encoded.head(20))\n",
    "# label_encoded['foot'].value_counts()\n",
    "data['d/w'] = label_encoded\n"
   ]
  },
  {
   "cell_type": "markdown",
   "id": "ac9757ba",
   "metadata": {},
   "source": [
    " We need to transform feet, inches  into cm"
   ]
  },
  {
   "cell_type": "code",
   "execution_count": 30,
   "id": "5f8c7d5e",
   "metadata": {},
   "outputs": [],
   "source": [
    "dummy = data[valid_columns].head(5)\n",
    "# dummy"
   ]
  },
  {
   "cell_type": "code",
   "execution_count": 31,
   "id": "8ec3474b",
   "metadata": {},
   "outputs": [],
   "source": [
    "# h_inch += h_ft * 12\n",
    "# h_cm = round(h_inch * 2.54, 1)\n",
    "\n",
    "\n",
    "# \\\"\n",
    "\n",
    "\n",
    "\n",
    "for col in dummy['height']:\n",
    "    data_height_ft = dummy['height'].str.split(\"\\'\", n = 1, expand = True)[0]\n",
    "    data_height_in_1 = dummy['height'].str.split(\"\\'\", n = 1, expand = True)[1]    \n",
    "    for i in data_height_in_1:\n",
    "        data_height_in_2 = i.rstrip(\"\\\"\")\n",
    "    data_height_ft = pd.to_numeric(data_height_ft)\n",
    "    data_height_in = pd.to_numeric(data_height_in_2)\n",
    "# print(data_height_ft)\n",
    "# print(data_height_in)\n",
    "\n",
    "\n",
    "\n",
    "dummy2 = (data_height_ft * 30.48)  + (data_height_in * 2.54)\n",
    "# dummy2"
   ]
  },
  {
   "cell_type": "code",
   "execution_count": 37,
   "id": "9dde61e2",
   "metadata": {},
   "outputs": [
    {
     "data": {
      "text/plain": [
       "0    180.34\n",
       "1    210.82\n",
       "2    180.34\n",
       "3    180.34\n",
       "4    180.34\n",
       "Name: height, dtype: float64"
      ]
     },
     "execution_count": 37,
     "metadata": {},
     "output_type": "execute_result"
    }
   ],
   "source": [
    "# for col in dummy['height']:\n",
    "#         height_ft = dummy['height'].str.split(\"\\'\", n = 1, expand = True)[0]\n",
    "#         height_in_1 = dummy['height'].str.split(\"\\'\", n = 1, expand = True)[1]   \n",
    "        \n",
    "# for i in data_height_in_1:\n",
    "#     data_height_in_2 = i.rstrip(\"\\\"\")\n",
    "#     height_ft = pd.to_numeric(data_height_ft)\n",
    "#     height_in_2 = pd.to_numeric(data_height_in_2)\n",
    "# dummy['height'] = (data_height_ft * 30.48)  + (data_height_in * 2.54)\n",
    "\n",
    "\n"
   ]
  },
  {
   "cell_type": "code",
   "execution_count": 3,
   "id": "63b1e362",
   "metadata": {},
   "outputs": [],
   "source": [
    "def clean_fifa21(df):\n",
    "    cols = []\n",
    "    for i in range(len(df.columns)):\n",
    "        cols.append(df.columns[i].lower().replace(' ', '_'))\n",
    "    df.columns = cols\n",
    "    \n",
    "    df_num = df._get_numeric_data()\n",
    "    df_num = df_num[df_num['volleys'].isna()==False]\n",
    "    df_num = df_num[df_num['composure'].isna()==False]\n",
    "    \n",
    "    list_dummies = ['ls','st','rs','lw','lf','cf','rf','rw','lam','cam','ram','lm','lcm','cm','rcm','rm','lwb','ldm','cdm','rdm','rwb','lb','lcb','cb','rcb','rb','gk',]\n",
    "    for col in df[list_dummies]:\n",
    "        df[col] = df[col].str.split(\"+\", n = 1, expand = True)[0]\n",
    "    \n",
    "    dummies_2 = ['w/f','sm','ir']\n",
    "    for col in df[dummies_2]:\n",
    "        df[col] = df[col].str.split(\" \", n = 1, expand = True)[0]\n",
    "    \n",
    "    valid_columns = ['age','bp','height','weight','foot','growth','value','attacking','skill','movement','power','mentality','defending','goalkeeping','base_stats','w/f','sm','a/w','d/w','ir','pac','sho','pas','dri','defe','phy','hits','ls','st','rs','lw','lf','cf','rf','rw','lam','cam','ram','lm','lcm','cm','rcm','rm','lwb','ldm','cdm','rdm','rwb','lb','lcb','cb','rcb','rb','gk']\n",
    "    \n",
    "\n",
    "    from sklearn.preprocessing import LabelEncoder\n",
    "    label_encoded = LabelEncoder().fit(df['foot']).transform(df['foot']) # ordered wrt value counts\n",
    "    label_encoded = pd.DataFrame(label_encoded)\n",
    "    # label_encoded['foot'].value_counts()\n",
    "    df['foot']= label_encoded\n",
    "    \n",
    "    for col in df['weight']:\n",
    "        df['weight'] = df['weight'].str.split(\"lbs\", n = 1, expand = True)[0]\n",
    "    \n",
    "    #A/W\n",
    "    label_encoded = LabelEncoder().fit(df['a/w']).transform(df['a/w']) # ordered wrt value counts\n",
    "    label_encoded = pd.DataFrame(label_encoded)\n",
    "    # label_encoded['foot'].value_counts()\n",
    "    df['a/w']= label_encoded\n",
    "\n",
    "    #D/W\n",
    "    df4 = df['d/w']\n",
    "    label_encoded = LabelEncoder().fit(df['d/w']).transform(df['d/w']) # ordered wrt value counts\n",
    "    label_encoded = pd.DataFrame(label_encoded)\n",
    "    # label_encoded['foot'].value_counts()\n",
    "    df['d/w'] = label_encoded\n",
    "    \n",
    "    df['value'] = df['value'].str.replace(\"€\", \"\").str.replace(\"K\",\"000\").str.replace(\"M\",\"000000\").str.replace(\"B\",\"000000000\")\n",
    "    \n",
    "    for col in dummy['height']:\n",
    "        data_height_ft = dummy['height'].str.split(\"\\'\", n = 1, expand = True)[0]\n",
    "        data_height_in_1 = dummy['height'].str.split(\"\\'\", n = 1, expand = True)[1]    \n",
    "        for i in data_height_in_1:\n",
    "            data_height_in_2 = i.rstrip(\"\\\"\")\n",
    "        data_height_ft = pd.to_numeric(data_height_ft)\n",
    "        data_height_in = pd.to_numeric(data_height_in_2)\n",
    "    # print(data_height_ft)\n",
    "    # print(data_height_in)\n",
    "\n",
    "\n",
    "\n",
    "    dummy2 = (data_height_ft * 30.48)  + (data_height_in * 2.54)\n",
    "\n",
    "    return df\n",
    "    "
   ]
  },
  {
   "cell_type": "code",
   "execution_count": 107,
   "id": "26b5d522",
   "metadata": {},
   "outputs": [
    {
     "ename": "KeyError",
     "evalue": "'volleys'",
     "output_type": "error",
     "traceback": [
      "\u001b[0;31m---------------------------------------------------------------------------\u001b[0m",
      "\u001b[0;31mKeyError\u001b[0m                                  Traceback (most recent call last)",
      "\u001b[0;32m~/opt/anaconda3/lib/python3.9/site-packages/pandas/core/indexes/base.py\u001b[0m in \u001b[0;36mget_loc\u001b[0;34m(self, key, method, tolerance)\u001b[0m\n\u001b[1;32m   3360\u001b[0m             \u001b[0;32mtry\u001b[0m\u001b[0;34m:\u001b[0m\u001b[0;34m\u001b[0m\u001b[0;34m\u001b[0m\u001b[0m\n\u001b[0;32m-> 3361\u001b[0;31m                 \u001b[0;32mreturn\u001b[0m \u001b[0mself\u001b[0m\u001b[0;34m.\u001b[0m\u001b[0m_engine\u001b[0m\u001b[0;34m.\u001b[0m\u001b[0mget_loc\u001b[0m\u001b[0;34m(\u001b[0m\u001b[0mcasted_key\u001b[0m\u001b[0;34m)\u001b[0m\u001b[0;34m\u001b[0m\u001b[0;34m\u001b[0m\u001b[0m\n\u001b[0m\u001b[1;32m   3362\u001b[0m             \u001b[0;32mexcept\u001b[0m \u001b[0mKeyError\u001b[0m \u001b[0;32mas\u001b[0m \u001b[0merr\u001b[0m\u001b[0;34m:\u001b[0m\u001b[0;34m\u001b[0m\u001b[0;34m\u001b[0m\u001b[0m\n",
      "\u001b[0;32m~/opt/anaconda3/lib/python3.9/site-packages/pandas/_libs/index.pyx\u001b[0m in \u001b[0;36mpandas._libs.index.IndexEngine.get_loc\u001b[0;34m()\u001b[0m\n",
      "\u001b[0;32m~/opt/anaconda3/lib/python3.9/site-packages/pandas/_libs/index.pyx\u001b[0m in \u001b[0;36mpandas._libs.index.IndexEngine.get_loc\u001b[0;34m()\u001b[0m\n",
      "\u001b[0;32mpandas/_libs/hashtable_class_helper.pxi\u001b[0m in \u001b[0;36mpandas._libs.hashtable.PyObjectHashTable.get_item\u001b[0;34m()\u001b[0m\n",
      "\u001b[0;32mpandas/_libs/hashtable_class_helper.pxi\u001b[0m in \u001b[0;36mpandas._libs.hashtable.PyObjectHashTable.get_item\u001b[0;34m()\u001b[0m\n",
      "\u001b[0;31mKeyError\u001b[0m: 'volleys'",
      "\nThe above exception was the direct cause of the following exception:\n",
      "\u001b[0;31mKeyError\u001b[0m                                  Traceback (most recent call last)",
      "\u001b[0;32m/var/folders/hq/x_513gjd2qsd86w2rwvd665m0000gn/T/ipykernel_1044/710435615.py\u001b[0m in \u001b[0;36m<module>\u001b[0;34m\u001b[0m\n\u001b[0;32m----> 1\u001b[0;31m \u001b[0mclean_fifa21\u001b[0m\u001b[0;34m(\u001b[0m\u001b[0mdummy\u001b[0m\u001b[0;34m)\u001b[0m\u001b[0;34m\u001b[0m\u001b[0;34m\u001b[0m\u001b[0m\n\u001b[0m",
      "\u001b[0;32m/var/folders/hq/x_513gjd2qsd86w2rwvd665m0000gn/T/ipykernel_1044/2119528533.py\u001b[0m in \u001b[0;36mclean_fifa21\u001b[0;34m(df)\u001b[0m\n\u001b[1;32m      6\u001b[0m \u001b[0;34m\u001b[0m\u001b[0m\n\u001b[1;32m      7\u001b[0m     \u001b[0mdf_num\u001b[0m \u001b[0;34m=\u001b[0m \u001b[0mdf\u001b[0m\u001b[0;34m.\u001b[0m\u001b[0m_get_numeric_data\u001b[0m\u001b[0;34m(\u001b[0m\u001b[0;34m)\u001b[0m\u001b[0;34m\u001b[0m\u001b[0;34m\u001b[0m\u001b[0m\n\u001b[0;32m----> 8\u001b[0;31m     \u001b[0mdf_num\u001b[0m \u001b[0;34m=\u001b[0m \u001b[0mdf_num\u001b[0m\u001b[0;34m[\u001b[0m\u001b[0mdf_num\u001b[0m\u001b[0;34m[\u001b[0m\u001b[0;34m'volleys'\u001b[0m\u001b[0;34m]\u001b[0m\u001b[0;34m.\u001b[0m\u001b[0misna\u001b[0m\u001b[0;34m(\u001b[0m\u001b[0;34m)\u001b[0m\u001b[0;34m==\u001b[0m\u001b[0;32mFalse\u001b[0m\u001b[0;34m]\u001b[0m\u001b[0;34m\u001b[0m\u001b[0;34m\u001b[0m\u001b[0m\n\u001b[0m\u001b[1;32m      9\u001b[0m     \u001b[0mdf_num\u001b[0m \u001b[0;34m=\u001b[0m \u001b[0mdf_num\u001b[0m\u001b[0;34m[\u001b[0m\u001b[0mdf_num\u001b[0m\u001b[0;34m[\u001b[0m\u001b[0;34m'composure'\u001b[0m\u001b[0;34m]\u001b[0m\u001b[0;34m.\u001b[0m\u001b[0misna\u001b[0m\u001b[0;34m(\u001b[0m\u001b[0;34m)\u001b[0m\u001b[0;34m==\u001b[0m\u001b[0;32mFalse\u001b[0m\u001b[0;34m]\u001b[0m\u001b[0;34m\u001b[0m\u001b[0;34m\u001b[0m\u001b[0m\n\u001b[1;32m     10\u001b[0m \u001b[0;34m\u001b[0m\u001b[0m\n",
      "\u001b[0;32m~/opt/anaconda3/lib/python3.9/site-packages/pandas/core/frame.py\u001b[0m in \u001b[0;36m__getitem__\u001b[0;34m(self, key)\u001b[0m\n\u001b[1;32m   3456\u001b[0m             \u001b[0;32mif\u001b[0m \u001b[0mself\u001b[0m\u001b[0;34m.\u001b[0m\u001b[0mcolumns\u001b[0m\u001b[0;34m.\u001b[0m\u001b[0mnlevels\u001b[0m \u001b[0;34m>\u001b[0m \u001b[0;36m1\u001b[0m\u001b[0;34m:\u001b[0m\u001b[0;34m\u001b[0m\u001b[0;34m\u001b[0m\u001b[0m\n\u001b[1;32m   3457\u001b[0m                 \u001b[0;32mreturn\u001b[0m \u001b[0mself\u001b[0m\u001b[0;34m.\u001b[0m\u001b[0m_getitem_multilevel\u001b[0m\u001b[0;34m(\u001b[0m\u001b[0mkey\u001b[0m\u001b[0;34m)\u001b[0m\u001b[0;34m\u001b[0m\u001b[0;34m\u001b[0m\u001b[0m\n\u001b[0;32m-> 3458\u001b[0;31m             \u001b[0mindexer\u001b[0m \u001b[0;34m=\u001b[0m \u001b[0mself\u001b[0m\u001b[0;34m.\u001b[0m\u001b[0mcolumns\u001b[0m\u001b[0;34m.\u001b[0m\u001b[0mget_loc\u001b[0m\u001b[0;34m(\u001b[0m\u001b[0mkey\u001b[0m\u001b[0;34m)\u001b[0m\u001b[0;34m\u001b[0m\u001b[0;34m\u001b[0m\u001b[0m\n\u001b[0m\u001b[1;32m   3459\u001b[0m             \u001b[0;32mif\u001b[0m \u001b[0mis_integer\u001b[0m\u001b[0;34m(\u001b[0m\u001b[0mindexer\u001b[0m\u001b[0;34m)\u001b[0m\u001b[0;34m:\u001b[0m\u001b[0;34m\u001b[0m\u001b[0;34m\u001b[0m\u001b[0m\n\u001b[1;32m   3460\u001b[0m                 \u001b[0mindexer\u001b[0m \u001b[0;34m=\u001b[0m \u001b[0;34m[\u001b[0m\u001b[0mindexer\u001b[0m\u001b[0;34m]\u001b[0m\u001b[0;34m\u001b[0m\u001b[0;34m\u001b[0m\u001b[0m\n",
      "\u001b[0;32m~/opt/anaconda3/lib/python3.9/site-packages/pandas/core/indexes/base.py\u001b[0m in \u001b[0;36mget_loc\u001b[0;34m(self, key, method, tolerance)\u001b[0m\n\u001b[1;32m   3361\u001b[0m                 \u001b[0;32mreturn\u001b[0m \u001b[0mself\u001b[0m\u001b[0;34m.\u001b[0m\u001b[0m_engine\u001b[0m\u001b[0;34m.\u001b[0m\u001b[0mget_loc\u001b[0m\u001b[0;34m(\u001b[0m\u001b[0mcasted_key\u001b[0m\u001b[0;34m)\u001b[0m\u001b[0;34m\u001b[0m\u001b[0;34m\u001b[0m\u001b[0m\n\u001b[1;32m   3362\u001b[0m             \u001b[0;32mexcept\u001b[0m \u001b[0mKeyError\u001b[0m \u001b[0;32mas\u001b[0m \u001b[0merr\u001b[0m\u001b[0;34m:\u001b[0m\u001b[0;34m\u001b[0m\u001b[0;34m\u001b[0m\u001b[0m\n\u001b[0;32m-> 3363\u001b[0;31m                 \u001b[0;32mraise\u001b[0m \u001b[0mKeyError\u001b[0m\u001b[0;34m(\u001b[0m\u001b[0mkey\u001b[0m\u001b[0;34m)\u001b[0m \u001b[0;32mfrom\u001b[0m \u001b[0merr\u001b[0m\u001b[0;34m\u001b[0m\u001b[0;34m\u001b[0m\u001b[0m\n\u001b[0m\u001b[1;32m   3364\u001b[0m \u001b[0;34m\u001b[0m\u001b[0m\n\u001b[1;32m   3365\u001b[0m         \u001b[0;32mif\u001b[0m \u001b[0mis_scalar\u001b[0m\u001b[0;34m(\u001b[0m\u001b[0mkey\u001b[0m\u001b[0;34m)\u001b[0m \u001b[0;32mand\u001b[0m \u001b[0misna\u001b[0m\u001b[0;34m(\u001b[0m\u001b[0mkey\u001b[0m\u001b[0;34m)\u001b[0m \u001b[0;32mand\u001b[0m \u001b[0;32mnot\u001b[0m \u001b[0mself\u001b[0m\u001b[0;34m.\u001b[0m\u001b[0mhasnans\u001b[0m\u001b[0;34m:\u001b[0m\u001b[0;34m\u001b[0m\u001b[0;34m\u001b[0m\u001b[0m\n",
      "\u001b[0;31mKeyError\u001b[0m: 'volleys'"
     ]
    }
   ],
   "source": [
    "clean_fifa21(dummy)"
   ]
  },
  {
   "cell_type": "code",
   "execution_count": null,
   "id": "85e08c4a",
   "metadata": {},
   "outputs": [],
   "source": []
  }
 ],
 "metadata": {
  "kernelspec": {
   "display_name": "Python 3 (ipykernel)",
   "language": "python",
   "name": "python3"
  },
  "language_info": {
   "codemirror_mode": {
    "name": "ipython",
    "version": 3
   },
   "file_extension": ".py",
   "mimetype": "text/x-python",
   "name": "python",
   "nbconvert_exporter": "python",
   "pygments_lexer": "ipython3",
   "version": "3.9.7"
  }
 },
 "nbformat": 4,
 "nbformat_minor": 5
}
